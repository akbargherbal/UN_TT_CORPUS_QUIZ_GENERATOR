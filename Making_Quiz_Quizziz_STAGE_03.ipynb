{
 "cells": [
  {
   "cell_type": "code",
   "execution_count": 1,
   "metadata": {},
   "outputs": [],
   "source": [
    "import pandas as pd"
   ]
  },
  {
   "cell_type": "code",
   "execution_count": 2,
   "metadata": {},
   "outputs": [],
   "source": [
    "import regex as re"
   ]
  },
  {
   "cell_type": "code",
   "execution_count": 3,
   "metadata": {},
   "outputs": [],
   "source": [
    "from random import sample"
   ]
  },
  {
   "cell_type": "code",
   "execution_count": 4,
   "metadata": {},
   "outputs": [],
   "source": [
    "df = pd.read_pickle('STAGE_02_18K_quiz.pkl')"
   ]
  },
  {
   "cell_type": "code",
   "execution_count": 5,
   "metadata": {},
   "outputs": [],
   "source": [
    "df = df.sample(frac=1).reset_index(drop=True)"
   ]
  },
  {
   "cell_type": "code",
   "execution_count": 6,
   "metadata": {},
   "outputs": [],
   "source": [
    "df_nouns_choices = pd.read_pickle('NOUN_CHOICES.pkl')\n",
    "df_nouns_choices['NOUN'] = df_nouns_choices['NOUN'].apply(lambda x: x.lower())\n",
    "df_nouns_choices['CHOICES'] = df_nouns_choices['CHOICES'].apply(lambda x: x[:10])\n",
    "df_verbs_choices = pd.read_pickle('VERB_CHOICES.pkl')\n",
    "df_verbs_choices['VERB'] = df_verbs_choices['VERB'].apply(lambda x: x.lower())\n",
    "df_verbs_choices['CHOICES'] = df_verbs_choices['CHOICES'].apply(lambda x: x[:10])\n"
   ]
  },
  {
   "cell_type": "code",
   "execution_count": 7,
   "metadata": {},
   "outputs": [],
   "source": [
    "dict_nouns_choices = dict(df_nouns_choices.values.tolist())\n",
    "dict_verbs_choices = dict(df_verbs_choices.values.tolist())\n"
   ]
  },
  {
   "cell_type": "code",
   "execution_count": null,
   "metadata": {},
   "outputs": [],
   "source": []
  },
  {
   "cell_type": "code",
   "execution_count": 8,
   "metadata": {},
   "outputs": [],
   "source": [
    "quiz_verbs = df['QUESTION VERB'.split()]\n"
   ]
  },
  {
   "cell_type": "code",
   "execution_count": 9,
   "metadata": {},
   "outputs": [
    {
     "data": {
      "text/html": [
       "<div>\n",
       "<style scoped>\n",
       "    .dataframe tbody tr th:only-of-type {\n",
       "        vertical-align: middle;\n",
       "    }\n",
       "\n",
       "    .dataframe tbody tr th {\n",
       "        vertical-align: top;\n",
       "    }\n",
       "\n",
       "    .dataframe thead th {\n",
       "        text-align: right;\n",
       "    }\n",
       "</style>\n",
       "<table border=\"1\" class=\"dataframe\">\n",
       "  <thead>\n",
       "    <tr style=\"text-align: right;\">\n",
       "      <th></th>\n",
       "      <th>QUESTION</th>\n",
       "      <th>VERB</th>\n",
       "    </tr>\n",
       "  </thead>\n",
       "  <tbody>\n",
       "    <tr>\n",
       "      <th>0</th>\n",
       "      <td>The global financial and economic architecture...</td>\n",
       "      <td>developing</td>\n",
       "    </tr>\n",
       "    <tr>\n",
       "      <th>1</th>\n",
       "      <td>Reform initiatives have been slow to _ _ _ _ e...</td>\n",
       "      <td>take</td>\n",
       "    </tr>\n",
       "    <tr>\n",
       "      <th>2</th>\n",
       "      <td>She also _ _ _ _ _ _ _ _ _ to the question reg...</td>\n",
       "      <td>responded</td>\n",
       "    </tr>\n",
       "    <tr>\n",
       "      <th>3</th>\n",
       "      <td>(f) _ _ _ _ _ _ in education , particularly fo...</td>\n",
       "      <td>Invest</td>\n",
       "    </tr>\n",
       "    <tr>\n",
       "      <th>4</th>\n",
       "      <td>The challenge was _ _ _ _ _ _ _ a better way o...</td>\n",
       "      <td>finding</td>\n",
       "    </tr>\n",
       "    <tr>\n",
       "      <th>...</th>\n",
       "      <td>...</td>\n",
       "      <td>...</td>\n",
       "    </tr>\n",
       "    <tr>\n",
       "      <th>18575</th>\n",
       "      <td>However, he was disappointed at the Secretaria...</td>\n",
       "      <td>related</td>\n",
       "    </tr>\n",
       "    <tr>\n",
       "      <th>18576</th>\n",
       "      <td>A considerable effort by Human Resources made ...</td>\n",
       "      <td>bring</td>\n",
       "    </tr>\n",
       "    <tr>\n",
       "      <th>18577</th>\n",
       "      <td>23. Mr. Briones (International Association of ...</td>\n",
       "      <td>said</td>\n",
       "    </tr>\n",
       "    <tr>\n",
       "      <th>18578</th>\n",
       "      <td>- Assist the country to reform its prison syst...</td>\n",
       "      <td>abide</td>\n",
       "    </tr>\n",
       "    <tr>\n",
       "      <th>18579</th>\n",
       "      <td>We are now renewing our efforts to _ _ _ _ wit...</td>\n",
       "      <td>deal</td>\n",
       "    </tr>\n",
       "  </tbody>\n",
       "</table>\n",
       "<p>18580 rows × 2 columns</p>\n",
       "</div>"
      ],
      "text/plain": [
       "                                                QUESTION        VERB\n",
       "0      The global financial and economic architecture...  developing\n",
       "1      Reform initiatives have been slow to _ _ _ _ e...        take\n",
       "2      She also _ _ _ _ _ _ _ _ _ to the question reg...   responded\n",
       "3      (f) _ _ _ _ _ _ in education , particularly fo...      Invest\n",
       "4      The challenge was _ _ _ _ _ _ _ a better way o...     finding\n",
       "...                                                  ...         ...\n",
       "18575  However, he was disappointed at the Secretaria...     related\n",
       "18576  A considerable effort by Human Resources made ...       bring\n",
       "18577  23. Mr. Briones (International Association of ...        said\n",
       "18578  - Assist the country to reform its prison syst...       abide\n",
       "18579  We are now renewing our efforts to _ _ _ _ wit...        deal\n",
       "\n",
       "[18580 rows x 2 columns]"
      ]
     },
     "execution_count": 9,
     "metadata": {},
     "output_type": "execute_result"
    }
   ],
   "source": [
    "quiz_verbs"
   ]
  },
  {
   "cell_type": "code",
   "execution_count": 10,
   "metadata": {},
   "outputs": [],
   "source": [
    "def create_choices(word, pos= 'verb / noun?' , size=4):\n",
    "    word = word.lower()\n",
    "    if pos.lower() == 'noun':\n",
    "        choices = sample(dict_nouns_choices[word], size)\n",
    "        return choices\n",
    "    else:\n",
    "        choices = sample(dict_verbs_choices[word], size)\n",
    "        return choices"
   ]
  },
  {
   "cell_type": "code",
   "execution_count": 11,
   "metadata": {},
   "outputs": [
    {
     "name": "stderr",
     "output_type": "stream",
     "text": [
      "<ipython-input-11-13a0834d166b>:1: SettingWithCopyWarning: \n",
      "A value is trying to be set on a copy of a slice from a DataFrame.\n",
      "Try using .loc[row_indexer,col_indexer] = value instead\n",
      "\n",
      "See the caveats in the documentation: https://pandas.pydata.org/pandas-docs/stable/user_guide/indexing.html#returning-a-view-versus-a-copy\n",
      "  quiz_verbs['CHOICES'] = quiz_verbs['VERB'].apply(lambda x: create_choices(x, pos='verb'))\n"
     ]
    }
   ],
   "source": [
    "quiz_verbs['CHOICES'] = quiz_verbs['VERB'].apply(lambda x: create_choices(x, pos='verb'))\n"
   ]
  },
  {
   "cell_type": "code",
   "execution_count": 12,
   "metadata": {},
   "outputs": [
    {
     "data": {
      "text/html": [
       "<div>\n",
       "<style scoped>\n",
       "    .dataframe tbody tr th:only-of-type {\n",
       "        vertical-align: middle;\n",
       "    }\n",
       "\n",
       "    .dataframe tbody tr th {\n",
       "        vertical-align: top;\n",
       "    }\n",
       "\n",
       "    .dataframe thead th {\n",
       "        text-align: right;\n",
       "    }\n",
       "</style>\n",
       "<table border=\"1\" class=\"dataframe\">\n",
       "  <thead>\n",
       "    <tr style=\"text-align: right;\">\n",
       "      <th></th>\n",
       "      <th>QUESTION</th>\n",
       "      <th>VERB</th>\n",
       "      <th>CHOICES</th>\n",
       "    </tr>\n",
       "  </thead>\n",
       "  <tbody>\n",
       "    <tr>\n",
       "      <th>0</th>\n",
       "      <td>The global financial and economic architecture...</td>\n",
       "      <td>developing</td>\n",
       "      <td>[declaring, levelling, exploring, depending]</td>\n",
       "    </tr>\n",
       "    <tr>\n",
       "      <th>1</th>\n",
       "      <td>Reform initiatives have been slow to _ _ _ _ e...</td>\n",
       "      <td>take</td>\n",
       "      <td>[stated, tackle, traded, stayed]</td>\n",
       "    </tr>\n",
       "    <tr>\n",
       "      <th>2</th>\n",
       "      <td>She also _ _ _ _ _ _ _ _ _ to the question reg...</td>\n",
       "      <td>responded</td>\n",
       "      <td>[respected, reminded, restored, ended]</td>\n",
       "    </tr>\n",
       "    <tr>\n",
       "      <th>3</th>\n",
       "      <td>(f) _ _ _ _ _ _ in education , particularly fo...</td>\n",
       "      <td>Invest</td>\n",
       "      <td>[invite, involve, lives, contested]</td>\n",
       "    </tr>\n",
       "    <tr>\n",
       "      <th>4</th>\n",
       "      <td>The challenge was _ _ _ _ _ _ _ a better way o...</td>\n",
       "      <td>finding</td>\n",
       "      <td>[feeding, founding, winning, sending]</td>\n",
       "    </tr>\n",
       "    <tr>\n",
       "      <th>...</th>\n",
       "      <td>...</td>\n",
       "      <td>...</td>\n",
       "      <td>...</td>\n",
       "    </tr>\n",
       "    <tr>\n",
       "      <th>18575</th>\n",
       "      <td>However, he was disappointed at the Secretaria...</td>\n",
       "      <td>related</td>\n",
       "      <td>[elected, realized, reaped, remained]</td>\n",
       "    </tr>\n",
       "    <tr>\n",
       "      <th>18576</th>\n",
       "      <td>A considerable effort by Human Resources made ...</td>\n",
       "      <td>bring</td>\n",
       "      <td>[aging, breaking, bridge, bridging]</td>\n",
       "    </tr>\n",
       "    <tr>\n",
       "      <th>18577</th>\n",
       "      <td>23. Mr. Briones (International Association of ...</td>\n",
       "      <td>said</td>\n",
       "      <td>[laid, paid, stated, stand]</td>\n",
       "    </tr>\n",
       "    <tr>\n",
       "      <th>18578</th>\n",
       "      <td>- Assist the country to reform its prison syst...</td>\n",
       "      <td>abide</td>\n",
       "      <td>[imagine, stabilize, examine, achieve]</td>\n",
       "    </tr>\n",
       "    <tr>\n",
       "      <th>18579</th>\n",
       "      <td>We are now renewing our efforts to _ _ _ _ wit...</td>\n",
       "      <td>deal</td>\n",
       "      <td>[feel, reap, steal, lead]</td>\n",
       "    </tr>\n",
       "  </tbody>\n",
       "</table>\n",
       "<p>18580 rows × 3 columns</p>\n",
       "</div>"
      ],
      "text/plain": [
       "                                                QUESTION        VERB  \\\n",
       "0      The global financial and economic architecture...  developing   \n",
       "1      Reform initiatives have been slow to _ _ _ _ e...        take   \n",
       "2      She also _ _ _ _ _ _ _ _ _ to the question reg...   responded   \n",
       "3      (f) _ _ _ _ _ _ in education , particularly fo...      Invest   \n",
       "4      The challenge was _ _ _ _ _ _ _ a better way o...     finding   \n",
       "...                                                  ...         ...   \n",
       "18575  However, he was disappointed at the Secretaria...     related   \n",
       "18576  A considerable effort by Human Resources made ...       bring   \n",
       "18577  23. Mr. Briones (International Association of ...        said   \n",
       "18578  - Assist the country to reform its prison syst...       abide   \n",
       "18579  We are now renewing our efforts to _ _ _ _ wit...        deal   \n",
       "\n",
       "                                            CHOICES  \n",
       "0      [declaring, levelling, exploring, depending]  \n",
       "1                  [stated, tackle, traded, stayed]  \n",
       "2            [respected, reminded, restored, ended]  \n",
       "3               [invite, involve, lives, contested]  \n",
       "4             [feeding, founding, winning, sending]  \n",
       "...                                             ...  \n",
       "18575         [elected, realized, reaped, remained]  \n",
       "18576           [aging, breaking, bridge, bridging]  \n",
       "18577                   [laid, paid, stated, stand]  \n",
       "18578        [imagine, stabilize, examine, achieve]  \n",
       "18579                     [feel, reap, steal, lead]  \n",
       "\n",
       "[18580 rows x 3 columns]"
      ]
     },
     "execution_count": 12,
     "metadata": {},
     "output_type": "execute_result"
    }
   ],
   "source": [
    "quiz_verbs"
   ]
  },
  {
   "cell_type": "code",
   "execution_count": 13,
   "metadata": {},
   "outputs": [
    {
     "name": "stderr",
     "output_type": "stream",
     "text": [
      "<ipython-input-13-88ec9a90378f>:1: SettingWithCopyWarning: \n",
      "A value is trying to be set on a copy of a slice from a DataFrame.\n",
      "Try using .loc[row_indexer,col_indexer] = value instead\n",
      "\n",
      "See the caveats in the documentation: https://pandas.pydata.org/pandas-docs/stable/user_guide/indexing.html#returning-a-view-versus-a-copy\n",
      "  quiz_verbs['Option 1'] = quiz_verbs['CHOICES'].apply(lambda x: x[0])\n",
      "<ipython-input-13-88ec9a90378f>:2: SettingWithCopyWarning: \n",
      "A value is trying to be set on a copy of a slice from a DataFrame.\n",
      "Try using .loc[row_indexer,col_indexer] = value instead\n",
      "\n",
      "See the caveats in the documentation: https://pandas.pydata.org/pandas-docs/stable/user_guide/indexing.html#returning-a-view-versus-a-copy\n",
      "  quiz_verbs['Option 2'] = quiz_verbs['CHOICES'].apply(lambda x: x[1])\n",
      "<ipython-input-13-88ec9a90378f>:3: SettingWithCopyWarning: \n",
      "A value is trying to be set on a copy of a slice from a DataFrame.\n",
      "Try using .loc[row_indexer,col_indexer] = value instead\n",
      "\n",
      "See the caveats in the documentation: https://pandas.pydata.org/pandas-docs/stable/user_guide/indexing.html#returning-a-view-versus-a-copy\n",
      "  quiz_verbs['Option 3'] = quiz_verbs['CHOICES'].apply(lambda x: x[2])\n",
      "<ipython-input-13-88ec9a90378f>:4: SettingWithCopyWarning: \n",
      "A value is trying to be set on a copy of a slice from a DataFrame.\n",
      "Try using .loc[row_indexer,col_indexer] = value instead\n",
      "\n",
      "See the caveats in the documentation: https://pandas.pydata.org/pandas-docs/stable/user_guide/indexing.html#returning-a-view-versus-a-copy\n",
      "  quiz_verbs['Option 4'] = quiz_verbs['CHOICES'].apply(lambda x: x[3])\n",
      "<ipython-input-13-88ec9a90378f>:5: SettingWithCopyWarning: \n",
      "A value is trying to be set on a copy of a slice from a DataFrame.\n",
      "Try using .loc[row_indexer,col_indexer] = value instead\n",
      "\n",
      "See the caveats in the documentation: https://pandas.pydata.org/pandas-docs/stable/user_guide/indexing.html#returning-a-view-versus-a-copy\n",
      "  quiz_verbs['Option 5'] = quiz_verbs['VERB']\n",
      "<ipython-input-13-88ec9a90378f>:7: SettingWithCopyWarning: \n",
      "A value is trying to be set on a copy of a slice from a DataFrame.\n",
      "Try using .loc[row_indexer,col_indexer] = value instead\n",
      "\n",
      "See the caveats in the documentation: https://pandas.pydata.org/pandas-docs/stable/user_guide/indexing.html#returning-a-view-versus-a-copy\n",
      "  quiz_verbs['Correct Answer'] = 5\n",
      "<ipython-input-13-88ec9a90378f>:8: SettingWithCopyWarning: \n",
      "A value is trying to be set on a copy of a slice from a DataFrame.\n",
      "Try using .loc[row_indexer,col_indexer] = value instead\n",
      "\n",
      "See the caveats in the documentation: https://pandas.pydata.org/pandas-docs/stable/user_guide/indexing.html#returning-a-view-versus-a-copy\n",
      "  quiz_verbs['Time in seconds'] = 15\n"
     ]
    }
   ],
   "source": [
    "quiz_verbs['Option 1'] = quiz_verbs['CHOICES'].apply(lambda x: x[0])\n",
    "quiz_verbs['Option 2'] = quiz_verbs['CHOICES'].apply(lambda x: x[1])\n",
    "quiz_verbs['Option 3'] = quiz_verbs['CHOICES'].apply(lambda x: x[2])\n",
    "quiz_verbs['Option 4'] = quiz_verbs['CHOICES'].apply(lambda x: x[3])\n",
    "quiz_verbs['Option 5'] = quiz_verbs['VERB']\n",
    "\n",
    "quiz_verbs['Correct Answer'] = 5\n",
    "quiz_verbs['Time in seconds'] = 15\n",
    "quiz_verbs['Image Link'] = \"\"\n",
    "quiz_verbs['Question Type'] = \"Multiple Choice\""
   ]
  },
  {
   "cell_type": "code",
   "execution_count": 14,
   "metadata": {},
   "outputs": [],
   "source": [
    "quiz_verbs = quiz_verbs.rename(columns={'QUESTION': 'Question Text'})"
   ]
  },
  {
   "cell_type": "code",
   "execution_count": 15,
   "metadata": {},
   "outputs": [
    {
     "data": {
      "text/plain": [
       "['Question Text',\n",
       " 'VERB',\n",
       " 'CHOICES',\n",
       " 'Option 1',\n",
       " 'Option 2',\n",
       " 'Option 3',\n",
       " 'Option 4',\n",
       " 'Option 5',\n",
       " 'Correct Answer',\n",
       " 'Time in seconds',\n",
       " 'Image Link',\n",
       " 'Question Type']"
      ]
     },
     "execution_count": 15,
     "metadata": {},
     "output_type": "execute_result"
    }
   ],
   "source": [
    "list(quiz_verbs.columns)"
   ]
  },
  {
   "cell_type": "code",
   "execution_count": 16,
   "metadata": {},
   "outputs": [],
   "source": [
    "quiz_col = ['Question Text',\n",
    "    'Question Type',\n",
    " 'Option 1',\n",
    " 'Option 2',\n",
    " 'Option 3',\n",
    " 'Option 4',\n",
    "'Option 5',\n",
    " 'Correct Answer',\n",
    " 'Time in seconds',\n",
    " 'Image Link',\n",
    "]"
   ]
  },
  {
   "cell_type": "code",
   "execution_count": 17,
   "metadata": {},
   "outputs": [],
   "source": [
    "quiz_verbs = quiz_verbs[quiz_col]"
   ]
  },
  {
   "cell_type": "code",
   "execution_count": 18,
   "metadata": {},
   "outputs": [
    {
     "data": {
      "text/plain": [
       "<method 'islower' of 'str' objects>"
      ]
     },
     "execution_count": 18,
     "metadata": {},
     "output_type": "execute_result"
    }
   ],
   "source": [
    "str.islower"
   ]
  },
  {
   "cell_type": "code",
   "execution_count": 19,
   "metadata": {},
   "outputs": [],
   "source": [
    "def correct_caset(correct, incorrect):\n",
    "    if correct.islower():\n",
    "        return incorrect.lower()\n",
    "    elif correct.istitle():\n",
    "        return incorrect.title()\n",
    "    else:\n",
    "        return incorrect.lower()"
   ]
  },
  {
   "cell_type": "code",
   "execution_count": null,
   "metadata": {},
   "outputs": [],
   "source": [
    "quiz_verbs['Option 1'] = quiz_verbs.apply(lambda x: correct_caset(x['Option 5'], x['Option 1']), axis=1)\n",
    "quiz_verbs['Option 2'] = quiz_verbs.apply(lambda x: correct_caset(x['Option 5'], x['Option 2']), axis=1)\n",
    "quiz_verbs['Option 3'] = quiz_verbs.apply(lambda x: correct_caset(x['Option 5'], x['Option 3']), axis=1)\n",
    "quiz_verbs['Option 4'] = quiz_verbs.apply(lambda x: correct_caset(x['Option 5'], x['Option 4']), axis=1)"
   ]
  },
  {
   "cell_type": "code",
   "execution_count": null,
   "metadata": {},
   "outputs": [],
   "source": [
    "#quiz_verbs.to_pickle('QUIZZIZ_18K_QUIZ_BANK_MULTIPLE_CHOICE.pkl', protocol=4)"
   ]
  },
  {
   "cell_type": "code",
   "execution_count": null,
   "metadata": {},
   "outputs": [],
   "source": [
    "quiz_verb_01 = quiz_verbs.sample(30).drop_duplicates(['Option 5'])\n"
   ]
  },
  {
   "cell_type": "code",
   "execution_count": null,
   "metadata": {},
   "outputs": [],
   "source": [
    "quiz_verb_01.to_excel('QUIZZIZ_01.xlsx', encoding='utf-8', index=False)"
   ]
  },
  {
   "cell_type": "code",
   "execution_count": null,
   "metadata": {},
   "outputs": [],
   "source": []
  }
 ],
 "metadata": {
  "kernelspec": {
   "display_name": "Python 3",
   "language": "python",
   "name": "python3"
  },
  "language_info": {
   "codemirror_mode": {
    "name": "ipython",
    "version": 3
   },
   "file_extension": ".py",
   "mimetype": "text/x-python",
   "name": "python",
   "nbconvert_exporter": "python",
   "pygments_lexer": "ipython3",
   "version": "3.8.7"
  }
 },
 "nbformat": 4,
 "nbformat_minor": 4
}
