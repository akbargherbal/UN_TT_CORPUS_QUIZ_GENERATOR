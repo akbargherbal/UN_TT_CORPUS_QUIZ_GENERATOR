{
 "cells": [
  {
   "cell_type": "code",
   "execution_count": 42,
   "metadata": {},
   "outputs": [],
   "source": [
    "import pandas as pd"
   ]
  },
  {
   "cell_type": "code",
   "execution_count": 64,
   "metadata": {},
   "outputs": [],
   "source": [
    "\n",
    "df_verbs_choices = pd.read_pickle('VERB_CHOICES.pkl')\n",
    "df_verbs_choices['VERB'] = df_verbs_choices['VERB'].apply(lambda x: x.lower())\n",
    "df_verbs_choices['CHOICES'] = df_verbs_choices['CHOICES'].apply(lambda x: x[:10])\n",
    "df_verbs_choices['CHOICES'] = df_verbs_choices['CHOICES'].apply(lambda x: [i for i in x if ',' not in i])\n",
    "df_verbs_choices.to_pickle('VERB_CHOICES.pkl')\n",
    "\n",
    "df_verbs_choices[df_verbs_choices['VERB'].apply(lambda x: not ',' in x)]\n",
    "df_verbs_choices = df_verbs_choices.reset_index(drop=True)\n",
    "#df_verbs_choices.to_pickle('VERB_CHOICES.pkl', protocol=4)"
   ]
  },
  {
   "cell_type": "code",
   "execution_count": 66,
   "metadata": {},
   "outputs": [],
   "source": [
    "dict_verbs_choices = dict(df_verbs_choices.values.tolist())"
   ]
  },
  {
   "cell_type": "code",
   "execution_count": null,
   "metadata": {},
   "outputs": [],
   "source": []
  },
  {
   "cell_type": "code",
   "execution_count": 80,
   "metadata": {},
   "outputs": [],
   "source": [
    "def give_choices(x):\n",
    "    choices =  dict_verbs_choices[x.lower()][:4]\n",
    "    if x.islower():\n",
    "        return [i.lower() for i in choices] \n",
    "    elif x.istitle():\n",
    "        return [i.title() for i in choices]\n",
    "    else:\n",
    "        return [i.lower() for i in choices] "
   ]
  },
  {
   "cell_type": "code",
   "execution_count": null,
   "metadata": {},
   "outputs": [],
   "source": []
  },
  {
   "cell_type": "code",
   "execution_count": 81,
   "metadata": {},
   "outputs": [],
   "source": [
    "df = pd.read_pickle('QUIZZIZ_18K_QUIZ_BANK_MULTIPLE_CHOICE.pkl')"
   ]
  },
  {
   "cell_type": "code",
   "execution_count": 82,
   "metadata": {},
   "outputs": [],
   "source": [
    "df = df[df['Option 5'].apply(lambda x: ',' not in x)]"
   ]
  },
  {
   "cell_type": "code",
   "execution_count": 83,
   "metadata": {},
   "outputs": [],
   "source": [
    "df = df.reset_index(drop=True)"
   ]
  },
  {
   "cell_type": "code",
   "execution_count": null,
   "metadata": {},
   "outputs": [],
   "source": []
  },
  {
   "cell_type": "code",
   "execution_count": 84,
   "metadata": {},
   "outputs": [],
   "source": [
    "df['CHOICES'] = df['Option 5'].apply(lambda x: give_choices(x))"
   ]
  },
  {
   "cell_type": "code",
   "execution_count": 86,
   "metadata": {},
   "outputs": [],
   "source": [
    "df['Option 1'] = df.apply(lambda x: x['CHOICES'][0], axis=1)\n",
    "df['Option 2'] = df.apply(lambda x: x['CHOICES'][1], axis=1)\n",
    "df['Option 3'] = df.apply(lambda x: x['CHOICES'][2], axis=1)\n",
    "df['Option 4'] = df.apply(lambda x: x['CHOICES'][3], axis=1)"
   ]
  },
  {
   "cell_type": "code",
   "execution_count": null,
   "metadata": {},
   "outputs": [],
   "source": []
  },
  {
   "cell_type": "code",
   "execution_count": 88,
   "metadata": {},
   "outputs": [],
   "source": [
    "#df.to_pickle('QUIZZIZ_18K_QUIZ_BANK_MULTIPLE_CHOICE.pkl', protocol=4)"
   ]
  },
  {
   "cell_type": "code",
   "execution_count": 89,
   "metadata": {},
   "outputs": [
    {
     "name": "stdin",
     "output_type": "stream",
     "text": [
      "Enter duration per question 20\n"
     ]
    }
   ],
   "source": [
    "time_per_q = int(input('Enter duration per question'))"
   ]
  },
  {
   "cell_type": "code",
   "execution_count": 90,
   "metadata": {},
   "outputs": [
    {
     "name": "stdin",
     "output_type": "stream",
     "text": [
      "Enter number of questions for this quiz; must be a whole number; like 20! 20\n"
     ]
    }
   ],
   "source": [
    "quiz_length = int(input('Enter number of questions for this quiz; must be a whole number; like 20!'))"
   ]
  },
  {
   "cell_type": "code",
   "execution_count": 91,
   "metadata": {},
   "outputs": [
    {
     "name": "stdin",
     "output_type": "stream",
     "text": [
      "Enter File Name UN_TT_QUIZZIZ\n"
     ]
    }
   ],
   "source": [
    "file_xlsx_name = input('Enter File Name')"
   ]
  },
  {
   "cell_type": "code",
   "execution_count": null,
   "metadata": {},
   "outputs": [],
   "source": []
  },
  {
   "cell_type": "code",
   "execution_count": 93,
   "metadata": {},
   "outputs": [],
   "source": [
    "df['Time in seconds'] = time_per_q"
   ]
  },
  {
   "cell_type": "code",
   "execution_count": 96,
   "metadata": {},
   "outputs": [],
   "source": [
    "quiz_col = [i for i in list(df.columns) if i != 'CHOICES']"
   ]
  },
  {
   "cell_type": "code",
   "execution_count": 98,
   "metadata": {},
   "outputs": [],
   "source": [
    "df = df[quiz_col].reset_index(drop=True)"
   ]
  },
  {
   "cell_type": "code",
   "execution_count": 100,
   "metadata": {},
   "outputs": [],
   "source": [
    "#df.to_pickle('QUIZZIZ_18K_QUIZ_BANK_MULTIPLE_CHOICE.pkl', protocol=4)"
   ]
  },
  {
   "cell_type": "code",
   "execution_count": 101,
   "metadata": {},
   "outputs": [
    {
     "data": {
      "text/html": [
       "<div>\n",
       "<style scoped>\n",
       "    .dataframe tbody tr th:only-of-type {\n",
       "        vertical-align: middle;\n",
       "    }\n",
       "\n",
       "    .dataframe tbody tr th {\n",
       "        vertical-align: top;\n",
       "    }\n",
       "\n",
       "    .dataframe thead th {\n",
       "        text-align: right;\n",
       "    }\n",
       "</style>\n",
       "<table border=\"1\" class=\"dataframe\">\n",
       "  <thead>\n",
       "    <tr style=\"text-align: right;\">\n",
       "      <th></th>\n",
       "      <th>Question Text</th>\n",
       "      <th>Question Type</th>\n",
       "      <th>Option 1</th>\n",
       "      <th>Option 2</th>\n",
       "      <th>Option 3</th>\n",
       "      <th>Option 4</th>\n",
       "      <th>Option 5</th>\n",
       "      <th>Correct Answer</th>\n",
       "      <th>Time in seconds</th>\n",
       "      <th>Image Link</th>\n",
       "    </tr>\n",
       "  </thead>\n",
       "  <tbody>\n",
       "    <tr>\n",
       "      <th>0</th>\n",
       "      <td>An additional 30 universities have _ _ _ _ _ _...</td>\n",
       "      <td>Multiple Choice</td>\n",
       "      <td>stressed</td>\n",
       "      <td>addressed</td>\n",
       "      <td>explored</td>\n",
       "      <td>exerted</td>\n",
       "      <td>expressed</td>\n",
       "      <td>5</td>\n",
       "      <td>20</td>\n",
       "      <td></td>\n",
       "    </tr>\n",
       "    <tr>\n",
       "      <th>1</th>\n",
       "      <td>Global trafficking networks are likewise _ _ _...</td>\n",
       "      <td>Multiple Choice</td>\n",
       "      <td>paving</td>\n",
       "      <td>saving</td>\n",
       "      <td>sharing</td>\n",
       "      <td>shaping</td>\n",
       "      <td>having</td>\n",
       "      <td>5</td>\n",
       "      <td>20</td>\n",
       "      <td></td>\n",
       "    </tr>\n",
       "    <tr>\n",
       "      <th>2</th>\n",
       "      <td>Ecommerce has flourished in the region during ...</td>\n",
       "      <td>Multiple Choice</td>\n",
       "      <td>protecting</td>\n",
       "      <td>pointing</td>\n",
       "      <td>producing</td>\n",
       "      <td>removing</td>\n",
       "      <td>promoting</td>\n",
       "      <td>5</td>\n",
       "      <td>20</td>\n",
       "      <td></td>\n",
       "    </tr>\n",
       "    <tr>\n",
       "      <th>3</th>\n",
       "      <td>Failure to _ _ _ _ with that issue through the...</td>\n",
       "      <td>Multiple Choice</td>\n",
       "      <td>steal</td>\n",
       "      <td>reap</td>\n",
       "      <td>sell</td>\n",
       "      <td>hear</td>\n",
       "      <td>deal</td>\n",
       "      <td>5</td>\n",
       "      <td>20</td>\n",
       "      <td></td>\n",
       "    </tr>\n",
       "    <tr>\n",
       "      <th>4</th>\n",
       "      <td>51. Increasing psychological distress among th...</td>\n",
       "      <td>Multiple Choice</td>\n",
       "      <td>throwing</td>\n",
       "      <td>knowing</td>\n",
       "      <td>drawing</td>\n",
       "      <td>going</td>\n",
       "      <td>growing</td>\n",
       "      <td>5</td>\n",
       "      <td>20</td>\n",
       "      <td></td>\n",
       "    </tr>\n",
       "    <tr>\n",
       "      <th>...</th>\n",
       "      <td>...</td>\n",
       "      <td>...</td>\n",
       "      <td>...</td>\n",
       "      <td>...</td>\n",
       "      <td>...</td>\n",
       "      <td>...</td>\n",
       "      <td>...</td>\n",
       "      <td>...</td>\n",
       "      <td>...</td>\n",
       "      <td>...</td>\n",
       "    </tr>\n",
       "    <tr>\n",
       "      <th>18574</th>\n",
       "      <td>(a) Unlawful killings, rape, extortions, _ _ _...</td>\n",
       "      <td>Multiple Choice</td>\n",
       "      <td>formed</td>\n",
       "      <td>enforced</td>\n",
       "      <td>fired</td>\n",
       "      <td>faced</td>\n",
       "      <td>forced</td>\n",
       "      <td>5</td>\n",
       "      <td>20</td>\n",
       "      <td></td>\n",
       "    </tr>\n",
       "    <tr>\n",
       "      <th>18575</th>\n",
       "      <td>In the development of the new tribunals, the O...</td>\n",
       "      <td>Multiple Choice</td>\n",
       "      <td>returned</td>\n",
       "      <td>remained</td>\n",
       "      <td>defined</td>\n",
       "      <td>shared</td>\n",
       "      <td>learned</td>\n",
       "      <td>5</td>\n",
       "      <td>20</td>\n",
       "      <td></td>\n",
       "    </tr>\n",
       "    <tr>\n",
       "      <th>18576</th>\n",
       "      <td>The General Assembly, the principal deliberati...</td>\n",
       "      <td>Multiple Choice</td>\n",
       "      <td>fund</td>\n",
       "      <td>fired</td>\n",
       "      <td>fixed</td>\n",
       "      <td>defined</td>\n",
       "      <td>find</td>\n",
       "      <td>5</td>\n",
       "      <td>20</td>\n",
       "      <td></td>\n",
       "    </tr>\n",
       "    <tr>\n",
       "      <th>18577</th>\n",
       "      <td>Upon receiving such notice, the President of t...</td>\n",
       "      <td>Multiple Choice</td>\n",
       "      <td>takes</td>\n",
       "      <td>moves</td>\n",
       "      <td>saves</td>\n",
       "      <td>faces</td>\n",
       "      <td>makes</td>\n",
       "      <td>5</td>\n",
       "      <td>20</td>\n",
       "      <td></td>\n",
       "    </tr>\n",
       "    <tr>\n",
       "      <th>18578</th>\n",
       "      <td>We understand that proposing amendments to the...</td>\n",
       "      <td>Multiple Choice</td>\n",
       "      <td>gave</td>\n",
       "      <td>save</td>\n",
       "      <td>pave</td>\n",
       "      <td>share</td>\n",
       "      <td>have</td>\n",
       "      <td>5</td>\n",
       "      <td>20</td>\n",
       "      <td></td>\n",
       "    </tr>\n",
       "  </tbody>\n",
       "</table>\n",
       "<p>18579 rows × 10 columns</p>\n",
       "</div>"
      ],
      "text/plain": [
       "                                           Question Text    Question Type  \\\n",
       "0      An additional 30 universities have _ _ _ _ _ _...  Multiple Choice   \n",
       "1      Global trafficking networks are likewise _ _ _...  Multiple Choice   \n",
       "2      Ecommerce has flourished in the region during ...  Multiple Choice   \n",
       "3      Failure to _ _ _ _ with that issue through the...  Multiple Choice   \n",
       "4      51. Increasing psychological distress among th...  Multiple Choice   \n",
       "...                                                  ...              ...   \n",
       "18574  (a) Unlawful killings, rape, extortions, _ _ _...  Multiple Choice   \n",
       "18575  In the development of the new tribunals, the O...  Multiple Choice   \n",
       "18576  The General Assembly, the principal deliberati...  Multiple Choice   \n",
       "18577  Upon receiving such notice, the President of t...  Multiple Choice   \n",
       "18578  We understand that proposing amendments to the...  Multiple Choice   \n",
       "\n",
       "         Option 1   Option 2   Option 3  Option 4   Option 5  Correct Answer  \\\n",
       "0        stressed  addressed   explored   exerted  expressed               5   \n",
       "1          paving     saving    sharing   shaping     having               5   \n",
       "2      protecting   pointing  producing  removing  promoting               5   \n",
       "3           steal       reap       sell      hear       deal               5   \n",
       "4        throwing    knowing    drawing     going    growing               5   \n",
       "...           ...        ...        ...       ...        ...             ...   \n",
       "18574      formed   enforced      fired     faced     forced               5   \n",
       "18575    returned   remained    defined    shared    learned               5   \n",
       "18576        fund      fired      fixed   defined       find               5   \n",
       "18577       takes      moves      saves     faces      makes               5   \n",
       "18578        gave       save       pave     share       have               5   \n",
       "\n",
       "       Time in seconds Image Link  \n",
       "0                   20             \n",
       "1                   20             \n",
       "2                   20             \n",
       "3                   20             \n",
       "4                   20             \n",
       "...                ...        ...  \n",
       "18574               20             \n",
       "18575               20             \n",
       "18576               20             \n",
       "18577               20             \n",
       "18578               20             \n",
       "\n",
       "[18579 rows x 10 columns]"
      ]
     },
     "execution_count": 101,
     "metadata": {},
     "output_type": "execute_result"
    }
   ],
   "source": [
    "df"
   ]
  },
  {
   "cell_type": "code",
   "execution_count": null,
   "metadata": {},
   "outputs": [],
   "source": []
  },
  {
   "cell_type": "code",
   "execution_count": null,
   "metadata": {},
   "outputs": [],
   "source": []
  },
  {
   "cell_type": "code",
   "execution_count": 102,
   "metadata": {},
   "outputs": [
    {
     "data": {
      "text/html": [
       "<div>\n",
       "<style scoped>\n",
       "    .dataframe tbody tr th:only-of-type {\n",
       "        vertical-align: middle;\n",
       "    }\n",
       "\n",
       "    .dataframe tbody tr th {\n",
       "        vertical-align: top;\n",
       "    }\n",
       "\n",
       "    .dataframe thead th {\n",
       "        text-align: right;\n",
       "    }\n",
       "</style>\n",
       "<table border=\"1\" class=\"dataframe\">\n",
       "  <thead>\n",
       "    <tr style=\"text-align: right;\">\n",
       "      <th></th>\n",
       "      <th>Question Text</th>\n",
       "      <th>Question Type</th>\n",
       "      <th>Option 1</th>\n",
       "      <th>Option 2</th>\n",
       "      <th>Option 3</th>\n",
       "      <th>Option 4</th>\n",
       "      <th>Option 5</th>\n",
       "      <th>Correct Answer</th>\n",
       "      <th>Time in seconds</th>\n",
       "      <th>Image Link</th>\n",
       "    </tr>\n",
       "  </thead>\n",
       "  <tbody>\n",
       "    <tr>\n",
       "      <th>0</th>\n",
       "      <td>An additional 30 universities have _ _ _ _ _ _...</td>\n",
       "      <td>Multiple Choice</td>\n",
       "      <td>stressed</td>\n",
       "      <td>addressed</td>\n",
       "      <td>explored</td>\n",
       "      <td>exerted</td>\n",
       "      <td>expressed</td>\n",
       "      <td>5</td>\n",
       "      <td>20</td>\n",
       "      <td></td>\n",
       "    </tr>\n",
       "    <tr>\n",
       "      <th>1</th>\n",
       "      <td>Global trafficking networks are likewise _ _ _...</td>\n",
       "      <td>Multiple Choice</td>\n",
       "      <td>paving</td>\n",
       "      <td>saving</td>\n",
       "      <td>sharing</td>\n",
       "      <td>shaping</td>\n",
       "      <td>having</td>\n",
       "      <td>5</td>\n",
       "      <td>20</td>\n",
       "      <td></td>\n",
       "    </tr>\n",
       "    <tr>\n",
       "      <th>2</th>\n",
       "      <td>Ecommerce has flourished in the region during ...</td>\n",
       "      <td>Multiple Choice</td>\n",
       "      <td>protecting</td>\n",
       "      <td>pointing</td>\n",
       "      <td>producing</td>\n",
       "      <td>removing</td>\n",
       "      <td>promoting</td>\n",
       "      <td>5</td>\n",
       "      <td>20</td>\n",
       "      <td></td>\n",
       "    </tr>\n",
       "    <tr>\n",
       "      <th>3</th>\n",
       "      <td>Failure to _ _ _ _ with that issue through the...</td>\n",
       "      <td>Multiple Choice</td>\n",
       "      <td>steal</td>\n",
       "      <td>reap</td>\n",
       "      <td>sell</td>\n",
       "      <td>hear</td>\n",
       "      <td>deal</td>\n",
       "      <td>5</td>\n",
       "      <td>20</td>\n",
       "      <td></td>\n",
       "    </tr>\n",
       "    <tr>\n",
       "      <th>4</th>\n",
       "      <td>51. Increasing psychological distress among th...</td>\n",
       "      <td>Multiple Choice</td>\n",
       "      <td>throwing</td>\n",
       "      <td>knowing</td>\n",
       "      <td>drawing</td>\n",
       "      <td>going</td>\n",
       "      <td>growing</td>\n",
       "      <td>5</td>\n",
       "      <td>20</td>\n",
       "      <td></td>\n",
       "    </tr>\n",
       "    <tr>\n",
       "      <th>...</th>\n",
       "      <td>...</td>\n",
       "      <td>...</td>\n",
       "      <td>...</td>\n",
       "      <td>...</td>\n",
       "      <td>...</td>\n",
       "      <td>...</td>\n",
       "      <td>...</td>\n",
       "      <td>...</td>\n",
       "      <td>...</td>\n",
       "      <td>...</td>\n",
       "    </tr>\n",
       "    <tr>\n",
       "      <th>18574</th>\n",
       "      <td>(a) Unlawful killings, rape, extortions, _ _ _...</td>\n",
       "      <td>Multiple Choice</td>\n",
       "      <td>formed</td>\n",
       "      <td>enforced</td>\n",
       "      <td>fired</td>\n",
       "      <td>faced</td>\n",
       "      <td>forced</td>\n",
       "      <td>5</td>\n",
       "      <td>20</td>\n",
       "      <td></td>\n",
       "    </tr>\n",
       "    <tr>\n",
       "      <th>18575</th>\n",
       "      <td>In the development of the new tribunals, the O...</td>\n",
       "      <td>Multiple Choice</td>\n",
       "      <td>returned</td>\n",
       "      <td>remained</td>\n",
       "      <td>defined</td>\n",
       "      <td>shared</td>\n",
       "      <td>learned</td>\n",
       "      <td>5</td>\n",
       "      <td>20</td>\n",
       "      <td></td>\n",
       "    </tr>\n",
       "    <tr>\n",
       "      <th>18576</th>\n",
       "      <td>The General Assembly, the principal deliberati...</td>\n",
       "      <td>Multiple Choice</td>\n",
       "      <td>fund</td>\n",
       "      <td>fired</td>\n",
       "      <td>fixed</td>\n",
       "      <td>defined</td>\n",
       "      <td>find</td>\n",
       "      <td>5</td>\n",
       "      <td>20</td>\n",
       "      <td></td>\n",
       "    </tr>\n",
       "    <tr>\n",
       "      <th>18577</th>\n",
       "      <td>Upon receiving such notice, the President of t...</td>\n",
       "      <td>Multiple Choice</td>\n",
       "      <td>takes</td>\n",
       "      <td>moves</td>\n",
       "      <td>saves</td>\n",
       "      <td>faces</td>\n",
       "      <td>makes</td>\n",
       "      <td>5</td>\n",
       "      <td>20</td>\n",
       "      <td></td>\n",
       "    </tr>\n",
       "    <tr>\n",
       "      <th>18578</th>\n",
       "      <td>We understand that proposing amendments to the...</td>\n",
       "      <td>Multiple Choice</td>\n",
       "      <td>gave</td>\n",
       "      <td>save</td>\n",
       "      <td>pave</td>\n",
       "      <td>share</td>\n",
       "      <td>have</td>\n",
       "      <td>5</td>\n",
       "      <td>20</td>\n",
       "      <td></td>\n",
       "    </tr>\n",
       "  </tbody>\n",
       "</table>\n",
       "<p>18579 rows × 10 columns</p>\n",
       "</div>"
      ],
      "text/plain": [
       "                                           Question Text    Question Type  \\\n",
       "0      An additional 30 universities have _ _ _ _ _ _...  Multiple Choice   \n",
       "1      Global trafficking networks are likewise _ _ _...  Multiple Choice   \n",
       "2      Ecommerce has flourished in the region during ...  Multiple Choice   \n",
       "3      Failure to _ _ _ _ with that issue through the...  Multiple Choice   \n",
       "4      51. Increasing psychological distress among th...  Multiple Choice   \n",
       "...                                                  ...              ...   \n",
       "18574  (a) Unlawful killings, rape, extortions, _ _ _...  Multiple Choice   \n",
       "18575  In the development of the new tribunals, the O...  Multiple Choice   \n",
       "18576  The General Assembly, the principal deliberati...  Multiple Choice   \n",
       "18577  Upon receiving such notice, the President of t...  Multiple Choice   \n",
       "18578  We understand that proposing amendments to the...  Multiple Choice   \n",
       "\n",
       "         Option 1   Option 2   Option 3  Option 4   Option 5  Correct Answer  \\\n",
       "0        stressed  addressed   explored   exerted  expressed               5   \n",
       "1          paving     saving    sharing   shaping     having               5   \n",
       "2      protecting   pointing  producing  removing  promoting               5   \n",
       "3           steal       reap       sell      hear       deal               5   \n",
       "4        throwing    knowing    drawing     going    growing               5   \n",
       "...           ...        ...        ...       ...        ...             ...   \n",
       "18574      formed   enforced      fired     faced     forced               5   \n",
       "18575    returned   remained    defined    shared    learned               5   \n",
       "18576        fund      fired      fixed   defined       find               5   \n",
       "18577       takes      moves      saves     faces      makes               5   \n",
       "18578        gave       save       pave     share       have               5   \n",
       "\n",
       "       Time in seconds Image Link  \n",
       "0                   20             \n",
       "1                   20             \n",
       "2                   20             \n",
       "3                   20             \n",
       "4                   20             \n",
       "...                ...        ...  \n",
       "18574               20             \n",
       "18575               20             \n",
       "18576               20             \n",
       "18577               20             \n",
       "18578               20             \n",
       "\n",
       "[18579 rows x 10 columns]"
      ]
     },
     "execution_count": 102,
     "metadata": {},
     "output_type": "execute_result"
    }
   ],
   "source": [
    "df"
   ]
  },
  {
   "cell_type": "code",
   "execution_count": 103,
   "metadata": {},
   "outputs": [],
   "source": [
    "import os\n",
    "os.mkdir('QUIZZIZ_UN_TT_BATCH_01')"
   ]
  },
  {
   "cell_type": "code",
   "execution_count": 104,
   "metadata": {},
   "outputs": [],
   "source": [
    "batch_name = 'QUIZZIZ_UN_TT_BATCH_01'"
   ]
  },
  {
   "cell_type": "code",
   "execution_count": 105,
   "metadata": {},
   "outputs": [],
   "source": [
    "exp_quiz_quran = [f\"df.sample(100).drop_duplicates(['Option 1']).head(20).to_excel('{batch_name}/{file_xlsx_name}_{str(i).zfill(2)}.xlsx', encoding='utf-8', index=False)\" for i in range(1,20)]"
   ]
  },
  {
   "cell_type": "code",
   "execution_count": 106,
   "metadata": {},
   "outputs": [
    {
     "name": "stdout",
     "output_type": "stream",
     "text": [
      "df.sample(100).drop_duplicates(['Option 1']).head(20).to_excel('QUIZZIZ_UN_TT_BATCH_01/UN_TT_QUIZZIZ_01.xlsx', encoding='utf-8', index=False)\n",
      "df.sample(100).drop_duplicates(['Option 1']).head(20).to_excel('QUIZZIZ_UN_TT_BATCH_01/UN_TT_QUIZZIZ_02.xlsx', encoding='utf-8', index=False)\n",
      "df.sample(100).drop_duplicates(['Option 1']).head(20).to_excel('QUIZZIZ_UN_TT_BATCH_01/UN_TT_QUIZZIZ_03.xlsx', encoding='utf-8', index=False)\n",
      "df.sample(100).drop_duplicates(['Option 1']).head(20).to_excel('QUIZZIZ_UN_TT_BATCH_01/UN_TT_QUIZZIZ_04.xlsx', encoding='utf-8', index=False)\n",
      "df.sample(100).drop_duplicates(['Option 1']).head(20).to_excel('QUIZZIZ_UN_TT_BATCH_01/UN_TT_QUIZZIZ_05.xlsx', encoding='utf-8', index=False)\n",
      "df.sample(100).drop_duplicates(['Option 1']).head(20).to_excel('QUIZZIZ_UN_TT_BATCH_01/UN_TT_QUIZZIZ_06.xlsx', encoding='utf-8', index=False)\n",
      "df.sample(100).drop_duplicates(['Option 1']).head(20).to_excel('QUIZZIZ_UN_TT_BATCH_01/UN_TT_QUIZZIZ_07.xlsx', encoding='utf-8', index=False)\n",
      "df.sample(100).drop_duplicates(['Option 1']).head(20).to_excel('QUIZZIZ_UN_TT_BATCH_01/UN_TT_QUIZZIZ_08.xlsx', encoding='utf-8', index=False)\n",
      "df.sample(100).drop_duplicates(['Option 1']).head(20).to_excel('QUIZZIZ_UN_TT_BATCH_01/UN_TT_QUIZZIZ_09.xlsx', encoding='utf-8', index=False)\n",
      "df.sample(100).drop_duplicates(['Option 1']).head(20).to_excel('QUIZZIZ_UN_TT_BATCH_01/UN_TT_QUIZZIZ_10.xlsx', encoding='utf-8', index=False)\n",
      "df.sample(100).drop_duplicates(['Option 1']).head(20).to_excel('QUIZZIZ_UN_TT_BATCH_01/UN_TT_QUIZZIZ_11.xlsx', encoding='utf-8', index=False)\n",
      "df.sample(100).drop_duplicates(['Option 1']).head(20).to_excel('QUIZZIZ_UN_TT_BATCH_01/UN_TT_QUIZZIZ_12.xlsx', encoding='utf-8', index=False)\n",
      "df.sample(100).drop_duplicates(['Option 1']).head(20).to_excel('QUIZZIZ_UN_TT_BATCH_01/UN_TT_QUIZZIZ_13.xlsx', encoding='utf-8', index=False)\n",
      "df.sample(100).drop_duplicates(['Option 1']).head(20).to_excel('QUIZZIZ_UN_TT_BATCH_01/UN_TT_QUIZZIZ_14.xlsx', encoding='utf-8', index=False)\n",
      "df.sample(100).drop_duplicates(['Option 1']).head(20).to_excel('QUIZZIZ_UN_TT_BATCH_01/UN_TT_QUIZZIZ_15.xlsx', encoding='utf-8', index=False)\n",
      "df.sample(100).drop_duplicates(['Option 1']).head(20).to_excel('QUIZZIZ_UN_TT_BATCH_01/UN_TT_QUIZZIZ_16.xlsx', encoding='utf-8', index=False)\n",
      "df.sample(100).drop_duplicates(['Option 1']).head(20).to_excel('QUIZZIZ_UN_TT_BATCH_01/UN_TT_QUIZZIZ_17.xlsx', encoding='utf-8', index=False)\n",
      "df.sample(100).drop_duplicates(['Option 1']).head(20).to_excel('QUIZZIZ_UN_TT_BATCH_01/UN_TT_QUIZZIZ_18.xlsx', encoding='utf-8', index=False)\n",
      "df.sample(100).drop_duplicates(['Option 1']).head(20).to_excel('QUIZZIZ_UN_TT_BATCH_01/UN_TT_QUIZZIZ_19.xlsx', encoding='utf-8', index=False)\n"
     ]
    }
   ],
   "source": [
    "for i in exp_quiz_quran:\n",
    "    print(i)"
   ]
  },
  {
   "cell_type": "code",
   "execution_count": 107,
   "metadata": {},
   "outputs": [],
   "source": [
    "df.sample(100).drop_duplicates(['Option 1']).head(20).to_excel('QUIZZIZ_UN_TT_BATCH_01/UN_TT_QUIZZIZ_01.xlsx', encoding='utf-8', index=False)\n",
    "df.sample(100).drop_duplicates(['Option 1']).head(20).to_excel('QUIZZIZ_UN_TT_BATCH_01/UN_TT_QUIZZIZ_02.xlsx', encoding='utf-8', index=False)\n",
    "df.sample(100).drop_duplicates(['Option 1']).head(20).to_excel('QUIZZIZ_UN_TT_BATCH_01/UN_TT_QUIZZIZ_03.xlsx', encoding='utf-8', index=False)\n",
    "df.sample(100).drop_duplicates(['Option 1']).head(20).to_excel('QUIZZIZ_UN_TT_BATCH_01/UN_TT_QUIZZIZ_04.xlsx', encoding='utf-8', index=False)\n",
    "df.sample(100).drop_duplicates(['Option 1']).head(20).to_excel('QUIZZIZ_UN_TT_BATCH_01/UN_TT_QUIZZIZ_05.xlsx', encoding='utf-8', index=False)\n",
    "df.sample(100).drop_duplicates(['Option 1']).head(20).to_excel('QUIZZIZ_UN_TT_BATCH_01/UN_TT_QUIZZIZ_06.xlsx', encoding='utf-8', index=False)\n",
    "df.sample(100).drop_duplicates(['Option 1']).head(20).to_excel('QUIZZIZ_UN_TT_BATCH_01/UN_TT_QUIZZIZ_07.xlsx', encoding='utf-8', index=False)\n",
    "df.sample(100).drop_duplicates(['Option 1']).head(20).to_excel('QUIZZIZ_UN_TT_BATCH_01/UN_TT_QUIZZIZ_08.xlsx', encoding='utf-8', index=False)\n",
    "df.sample(100).drop_duplicates(['Option 1']).head(20).to_excel('QUIZZIZ_UN_TT_BATCH_01/UN_TT_QUIZZIZ_09.xlsx', encoding='utf-8', index=False)\n",
    "df.sample(100).drop_duplicates(['Option 1']).head(20).to_excel('QUIZZIZ_UN_TT_BATCH_01/UN_TT_QUIZZIZ_10.xlsx', encoding='utf-8', index=False)\n",
    "df.sample(100).drop_duplicates(['Option 1']).head(20).to_excel('QUIZZIZ_UN_TT_BATCH_01/UN_TT_QUIZZIZ_11.xlsx', encoding='utf-8', index=False)\n",
    "df.sample(100).drop_duplicates(['Option 1']).head(20).to_excel('QUIZZIZ_UN_TT_BATCH_01/UN_TT_QUIZZIZ_12.xlsx', encoding='utf-8', index=False)\n",
    "df.sample(100).drop_duplicates(['Option 1']).head(20).to_excel('QUIZZIZ_UN_TT_BATCH_01/UN_TT_QUIZZIZ_13.xlsx', encoding='utf-8', index=False)\n",
    "df.sample(100).drop_duplicates(['Option 1']).head(20).to_excel('QUIZZIZ_UN_TT_BATCH_01/UN_TT_QUIZZIZ_14.xlsx', encoding='utf-8', index=False)\n",
    "df.sample(100).drop_duplicates(['Option 1']).head(20).to_excel('QUIZZIZ_UN_TT_BATCH_01/UN_TT_QUIZZIZ_15.xlsx', encoding='utf-8', index=False)\n",
    "df.sample(100).drop_duplicates(['Option 1']).head(20).to_excel('QUIZZIZ_UN_TT_BATCH_01/UN_TT_QUIZZIZ_16.xlsx', encoding='utf-8', index=False)\n",
    "df.sample(100).drop_duplicates(['Option 1']).head(20).to_excel('QUIZZIZ_UN_TT_BATCH_01/UN_TT_QUIZZIZ_17.xlsx', encoding='utf-8', index=False)\n",
    "df.sample(100).drop_duplicates(['Option 1']).head(20).to_excel('QUIZZIZ_UN_TT_BATCH_01/UN_TT_QUIZZIZ_18.xlsx', encoding='utf-8', index=False)\n",
    "df.sample(100).drop_duplicates(['Option 1']).head(20).to_excel('QUIZZIZ_UN_TT_BATCH_01/UN_TT_QUIZZIZ_19.xlsx', encoding='utf-8', index=False)"
   ]
  },
  {
   "cell_type": "code",
   "execution_count": null,
   "metadata": {},
   "outputs": [],
   "source": []
  }
 ],
 "metadata": {
  "kernelspec": {
   "display_name": "Python 3",
   "language": "python",
   "name": "python3"
  },
  "language_info": {
   "codemirror_mode": {
    "name": "ipython",
    "version": 3
   },
   "file_extension": ".py",
   "mimetype": "text/x-python",
   "name": "python",
   "nbconvert_exporter": "python",
   "pygments_lexer": "ipython3",
   "version": "3.8.7"
  }
 },
 "nbformat": 4,
 "nbformat_minor": 4
}
