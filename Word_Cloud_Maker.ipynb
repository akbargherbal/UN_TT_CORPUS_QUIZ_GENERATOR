{
 "cells": [
  {
   "cell_type": "code",
   "execution_count": 1,
   "metadata": {},
   "outputs": [],
   "source": [
    "import pandas as pd"
   ]
  },
  {
   "cell_type": "code",
   "execution_count": 40,
   "metadata": {},
   "outputs": [],
   "source": [
    "import regex as re"
   ]
  },
  {
   "cell_type": "code",
   "execution_count": 49,
   "metadata": {},
   "outputs": [],
   "source": [
    "from itertools import chain"
   ]
  },
  {
   "cell_type": "code",
   "execution_count": 55,
   "metadata": {},
   "outputs": [],
   "source": [
    "from random import choice"
   ]
  },
  {
   "cell_type": "code",
   "execution_count": 65,
   "metadata": {},
   "outputs": [],
   "source": [
    "import os"
   ]
  },
  {
   "cell_type": "code",
   "execution_count": 87,
   "metadata": {},
   "outputs": [],
   "source": [
    "fonts = [i for i in os.listdir('font/') if i.endswith('ttf')]"
   ]
  },
  {
   "cell_type": "code",
   "execution_count": 88,
   "metadata": {},
   "outputs": [],
   "source": [
    "fonts = [i for i in os.listdir('font/') if ('bold' not in i.lower()) and ('thin' not in i.lower())]"
   ]
  },
  {
   "cell_type": "code",
   "execution_count": 89,
   "metadata": {},
   "outputs": [
    {
     "data": {
      "text/plain": [
       "['EBGaramond-Italic-VariableFont_wght.ttf',\n",
       " 'EBGaramond-Italic.ttf',\n",
       " 'EBGaramond-Medium.ttf',\n",
       " 'EBGaramond-MediumItalic.ttf',\n",
       " 'EBGaramond-Regular.ttf',\n",
       " 'EBGaramond-VariableFont_wght.ttf',\n",
       " 'EB_Garamond.zip',\n",
       " 'FiraSans-Black.ttf',\n",
       " 'FiraSans-BlackItalic.ttf',\n",
       " 'FiraSans-ExtraLight.ttf',\n",
       " 'FiraSans-ExtraLightItalic.ttf',\n",
       " 'FiraSans-Italic.ttf',\n",
       " 'FiraSans-Light.ttf',\n",
       " 'FiraSans-LightItalic.ttf',\n",
       " 'FiraSans-Medium.ttf',\n",
       " 'FiraSans-MediumItalic.ttf',\n",
       " 'FiraSans-Regular.ttf',\n",
       " 'Fira_Sans.zip',\n",
       " 'JosefinSans-ExtraLight.ttf',\n",
       " 'JosefinSans-ExtraLightItalic.ttf',\n",
       " 'JosefinSans-Italic-VariableFont_wght.ttf',\n",
       " 'JosefinSans-Italic.ttf',\n",
       " 'JosefinSans-Light.ttf',\n",
       " 'JosefinSans-LightItalic.ttf',\n",
       " 'JosefinSans-Medium.ttf',\n",
       " 'JosefinSans-MediumItalic.ttf',\n",
       " 'JosefinSans-Regular.ttf',\n",
       " 'JosefinSans-VariableFont_wght.ttf',\n",
       " 'Josefin_Sans.zip',\n",
       " 'Kanit-Black.ttf',\n",
       " 'Kanit-BlackItalic.ttf',\n",
       " 'Kanit-ExtraLight.ttf',\n",
       " 'Kanit-ExtraLightItalic.ttf',\n",
       " 'Kanit-Italic.ttf',\n",
       " 'Kanit-Light.ttf',\n",
       " 'Kanit-LightItalic.ttf',\n",
       " 'Kanit-Medium.ttf',\n",
       " 'Kanit-MediumItalic.ttf',\n",
       " 'Kanit-Regular.ttf',\n",
       " 'Kanit.zip',\n",
       " 'Lora-Italic-VariableFont_wght.ttf',\n",
       " 'Lora-Italic.ttf',\n",
       " 'Lora-Medium.ttf',\n",
       " 'Lora-MediumItalic.ttf',\n",
       " 'Lora-Regular.ttf',\n",
       " 'Lora-VariableFont_wght.ttf',\n",
       " 'Lora.zip',\n",
       " 'Roboto-Regular.ttf',\n",
       " 'SourceSerifPro-Black.ttf',\n",
       " 'SourceSerifPro-BlackItalic.ttf',\n",
       " 'SourceSerifPro-ExtraLight.ttf',\n",
       " 'SourceSerifPro-ExtraLightItalic.ttf',\n",
       " 'SourceSerifPro-Italic.ttf',\n",
       " 'SourceSerifPro-Light.ttf',\n",
       " 'SourceSerifPro-LightItalic.ttf',\n",
       " 'SourceSerifPro-Regular.ttf',\n",
       " 'Source_Serif_Pro.zip',\n",
       " 'WorkSans-Black.ttf',\n",
       " 'WorkSans-BlackItalic.ttf',\n",
       " 'WorkSans-ExtraLight.ttf',\n",
       " 'WorkSans-ExtraLightItalic.ttf',\n",
       " 'WorkSans-Italic-VariableFont_wght.ttf',\n",
       " 'WorkSans-Italic.ttf',\n",
       " 'WorkSans-Light.ttf',\n",
       " 'WorkSans-LightItalic.ttf',\n",
       " 'WorkSans-Medium.ttf',\n",
       " 'WorkSans-MediumItalic.ttf',\n",
       " 'WorkSans-Regular.ttf',\n",
       " 'WorkSans-VariableFont_wght.ttf',\n",
       " 'Work_Sans.zip']"
      ]
     },
     "execution_count": 89,
     "metadata": {},
     "output_type": "execute_result"
    }
   ],
   "source": [
    "fonts"
   ]
  },
  {
   "cell_type": "code",
   "execution_count": null,
   "metadata": {},
   "outputs": [],
   "source": []
  },
  {
   "cell_type": "code",
   "execution_count": 90,
   "metadata": {},
   "outputs": [],
   "source": [
    "dict_main = pd.read_pickle('THINK_TANKS_UN_CORPUS_INTERSECTION_VERB_NOUN_PAT.pkl')"
   ]
  },
  {
   "cell_type": "code",
   "execution_count": 91,
   "metadata": {},
   "outputs": [],
   "source": [
    "dict_main = dict(dict_main['PAT_LEMMA'].value_counts())"
   ]
  },
  {
   "cell_type": "code",
   "execution_count": 92,
   "metadata": {},
   "outputs": [],
   "source": [
    "df = pd.DataFrame(data={\n",
    "\n",
    "'VERB_NOUN': dict_main.keys(),\n",
    "'FREQ': dict_main.values()\n",
    "\n",
    "    \n",
    "})"
   ]
  },
  {
   "cell_type": "code",
   "execution_count": 93,
   "metadata": {},
   "outputs": [],
   "source": [
    "with open('background_color.txt', encoding='utf-8') as f:\n",
    "    lines = f.readlines()\n",
    "    lines = [i for i in lines if 'background_color' in i]\n",
    "    background_color = [re.findall('#.*\\\"', i) for i in lines]\n",
    "    background_color = list(chain(*background_color))\n",
    "    background_color = [re.sub('\\\"', '', i) for i in background_color]"
   ]
  },
  {
   "cell_type": "code",
   "execution_count": 94,
   "metadata": {},
   "outputs": [
    {
     "data": {
      "text/plain": [
       "['#F4ECF7', '#F5EEF8', '#E8F8F5', '#F9EBEA', '#EBF5FB', '#EBF5FB']"
      ]
     },
     "execution_count": 94,
     "metadata": {},
     "output_type": "execute_result"
    }
   ],
   "source": [
    "background_color"
   ]
  },
  {
   "cell_type": "code",
   "execution_count": 95,
   "metadata": {},
   "outputs": [],
   "source": [
    "df_01 = df.iloc[0:200]\n",
    "df_02 = df.iloc[30:230]\n",
    "df_03 = df.iloc[60:260]\n",
    "df_04 = df.iloc[90:290]\n",
    "df_05 = df.iloc[120:320]\n",
    "df_06 = df.iloc[150:350]\n",
    "df_07 = df.iloc[180:380]\n",
    "df_08 = df.iloc[210:410]\n",
    "df_09 = df.iloc[240:440]"
   ]
  },
  {
   "cell_type": "code",
   "execution_count": null,
   "metadata": {},
   "outputs": [],
   "source": []
  },
  {
   "cell_type": "code",
   "execution_count": 96,
   "metadata": {},
   "outputs": [
    {
     "data": {
      "text/plain": [
       "{'make recommendation': 1588,\n",
       " 'take measure': 1555,\n",
       " 'organize crime': 1504,\n",
       " 'base approach': 1471,\n",
       " 'emphasize the need': 1408,\n",
       " 'assess contribution': 1368,\n",
       " 'give rise': 1288,\n",
       " 'make statement': 1283,\n",
       " 'make progress': 1259,\n",
       " 'bear in mind': 1250,\n",
       " 'relate issue': 1168,\n",
       " 'take this opportunity': 1151,\n",
       " 'protect the right': 1149,\n",
       " 'speak on behalf': 1148,\n",
       " 'provide training': 1102,\n",
       " 'recognize the importance': 1075,\n",
       " 'provide guidance': 1062,\n",
       " 'reduce poverty': 1058,\n",
       " 'protect human right': 1057,\n",
       " 'combat terrorism': 1049,\n",
       " 'make process': 1043,\n",
       " 'give priority': 987,\n",
       " 'develop world': 985,\n",
       " 'improve the quality': 983,\n",
       " 'implement partner': 980,\n",
       " 'increase the number': 977,\n",
       " 'enable environment': 954,\n",
       " 'recognize the need': 945,\n",
       " 'take account': 944,\n",
       " 'strengthen the capacity': 931,\n",
       " 'relate activity': 925,\n",
       " 'provide technical assistance': 924,\n",
       " 'take a decision': 919,\n",
       " 'take advantage': 915,\n",
       " 'follow-up': 914,\n",
       " 'continue effort': 908,\n",
       " 'make use': 901,\n",
       " 'make every effort': 896,\n",
       " 'take the floor': 893,\n",
       " 'play a key role': 886,\n",
       " 'provide advice': 864,\n",
       " 'improve access': 853,\n",
       " 'govern body': 850,\n",
       " 'highlight the importance': 850,\n",
       " 'have an impact': 840,\n",
       " 'disaggregate datum': 830,\n",
       " 'underline the importance': 801,\n",
       " 'include woman': 790,\n",
       " 'highlight the need': 790,\n",
       " 'provide an opportunity': 779,\n",
       " 'include information': 770,\n",
       " 'have the potential': 766,\n",
       " 'support the effort': 750,\n",
       " 'guide principle': 739,\n",
       " 'promote human right': 737,\n",
       " 'address the problem': 731,\n",
       " 'grow number': 719,\n",
       " 'put an end': 699,\n",
       " 'address issue': 692,\n",
       " 'meet the need': 690,\n",
       " 'live in poverty': 686,\n",
       " 'support the development': 684,\n",
       " 'ensure compliance': 672,\n",
       " 'support effort': 671,\n",
       " 'share responsibility': 668,\n",
       " 'enhance cooperation': 665,\n",
       " 'pay tribute': 663,\n",
       " 'share information': 660,\n",
       " 'form part': 657,\n",
       " 'emerge issue': 654,\n",
       " 'make effort': 654,\n",
       " 'promote woman': 631,\n",
       " 'strengthen cooperation': 631,\n",
       " 'increase awareness': 625,\n",
       " 'add value': 622,\n",
       " 'bring to justice': 622,\n",
       " 'receive information': 618,\n",
       " 'force marriage': 609,\n",
       " 'reduce the number': 605,\n",
       " 'improve the situation': 600,\n",
       " 'achieve the goal': 599,\n",
       " 'come year': 598,\n",
       " 'have the opportunity': 592,\n",
       " 'exchange information': 592,\n",
       " 'come into force': 591,\n",
       " 'provide service': 584,\n",
       " 'have an important role': 583,\n",
       " 'form the basis': 583,\n",
       " 'last peace': 575,\n",
       " 'address the need': 572,\n",
       " 'increase access': 570,\n",
       " 'be a number': 566,\n",
       " 'underscore the importance': 565,\n",
       " 'build the capacity': 562,\n",
       " 'reach agreement': 562,\n",
       " 'base organization': 556,\n",
       " 'ensure access': 537,\n",
       " 'lead role': 520,\n",
       " 'base on the principle': 514,\n",
       " 'mobilize resource': 504,\n",
       " 'make significant progress': 502,\n",
       " 'provide access': 497,\n",
       " 'play a role': 497,\n",
       " 'exist resource': 494,\n",
       " 'provide protection': 491,\n",
       " 'continue support': 485,\n",
       " 'industrialize country': 482,\n",
       " 'take the form': 482,\n",
       " 'protect area': 480,\n",
       " 'take the lead': 477,\n",
       " 'have a negative impact': 476,\n",
       " 'address this issue': 472,\n",
       " 'empower woman': 471,\n",
       " 'play an active role': 470,\n",
       " 'be an urgent need': 465,\n",
       " 'promote peace': 465,\n",
       " 'climate change': 464,\n",
       " 'raise concern': 459,\n",
       " 'pave the way': 458,\n",
       " 'note the importance': 453,\n",
       " 'play a crucial role': 450,\n",
       " 'address the challenge': 449,\n",
       " 'gain access': 448,\n",
       " 'collect datum': 444,\n",
       " 'meet the requirement': 435,\n",
       " 'develop economy': 434,\n",
       " 'underscore the need': 433,\n",
       " 'increase demand': 433,\n",
       " 'provide security': 432,\n",
       " 'increase attention': 426,\n",
       " 'build capacity': 423,\n",
       " 'affect country': 421,\n",
       " 'provide opportunity': 417,\n",
       " 'take effect': 414,\n",
       " 'fix-wing': 410,\n",
       " 'have an obligation': 409,\n",
       " 'share the view': 407,\n",
       " 'come month': 398,\n",
       " 'develop region': 398,\n",
       " 'exist law': 397,\n",
       " 'increase use': 393,\n",
       " 'reach consensus': 393,\n",
       " 'meet the challenge': 392,\n",
       " 'increase transparency': 390,\n",
       " 'affect woman': 388,\n",
       " 'combat corruption': 388,\n",
       " 'go hand': 386,\n",
       " 'play a significant role': 385,\n",
       " 'address the root': 382,\n",
       " 'counter terrorism': 381,\n",
       " 'affect area': 378,\n",
       " 'have difficulty': 375,\n",
       " 'provide technical support': 370,\n",
       " 'help country': 368,\n",
       " 'make reference': 368,\n",
       " 'find mission': 367,\n",
       " 'provide datum': 366,\n",
       " 'provide the basis': 366,\n",
       " 'take care': 363,\n",
       " 'promote cooperation': 359,\n",
       " 'be a lack': 359,\n",
       " 'exchange view': 358,\n",
       " 'provide funding': 357,\n",
       " 'protect civilian': 357,\n",
       " 'raise the issue': 357,\n",
       " 'make a number': 356,\n",
       " 'receive support': 356,\n",
       " 'be no doubt': 355,\n",
       " 'reduce the risk': 354,\n",
       " 'implement policy': 354,\n",
       " 'increase efficiency': 353,\n",
       " 'have a right': 353,\n",
       " 'elect member': 352,\n",
       " 'increase cooperation': 352,\n",
       " 'exist mechanism': 351,\n",
       " 'strengthen the rule': 351,\n",
       " 'have the capacity': 349,\n",
       " 'play a central role': 348,\n",
       " 'explore way': 346,\n",
       " 'leave the country': 344,\n",
       " 'take decision': 344,\n",
       " 'contribute to the development': 340,\n",
       " 'work day': 339,\n",
       " 'take stock': 339,\n",
       " 'need in order': 338,\n",
       " 'play a critical role': 336,\n",
       " 'have the power': 336,\n",
       " 'identify area': 336,\n",
       " 'consider the possibility': 335,\n",
       " 'support country': 333,\n",
       " 'share experience': 333,\n",
       " 'respond to question': 332,\n",
       " 'deny access': 328,\n",
       " 'find way': 326,\n",
       " 'address climate': 325,\n",
       " 'provide a framework': 324,\n",
       " 'ensure accountability': 324,\n",
       " 'have jurisdiction': 324,\n",
       " 'have a role': 323,\n",
       " 'give birth': 322}"
      ]
     },
     "execution_count": 96,
     "metadata": {},
     "output_type": "execute_result"
    }
   ],
   "source": [
    "dict(df_02.values.tolist())"
   ]
  },
  {
   "cell_type": "code",
   "execution_count": 97,
   "metadata": {},
   "outputs": [],
   "source": [
    "from wordcloud import WordCloud, STOPWORDS, ImageColorGenerator\n",
    "import matplotlib\n",
    "import matplotlib.pyplot as plt"
   ]
  },
  {
   "cell_type": "code",
   "execution_count": 98,
   "metadata": {},
   "outputs": [],
   "source": [
    "akbar_colors = ['#009933',\n",
    " '#006699',\n",
    " '#333333',\n",
    " '#669999',\n",
    " '#990066',\n",
    " '#996666',\n",
    " '#cc3333',\n",
    " '#cc6633',\n",
    " '#cc6666',\n",
    " '#ff6633',\n",
    " '#990000',\n",
    " '#003366',\n",
    " '#339966',\n",
    " '#cc3399',\n",
    " '#3333ff']"
   ]
  },
  {
   "cell_type": "code",
   "execution_count": 99,
   "metadata": {},
   "outputs": [],
   "source": [
    "my_cmap = matplotlib.colors.ListedColormap(akbar_colors, name='my_colormap_name', N=45)"
   ]
  },
  {
   "cell_type": "code",
   "execution_count": 100,
   "metadata": {},
   "outputs": [
    {
     "data": {
      "text/plain": [
       "{'make recommendation': 1588,\n",
       " 'take measure': 1555,\n",
       " 'organize crime': 1504,\n",
       " 'base approach': 1471,\n",
       " 'emphasize the need': 1408,\n",
       " 'assess contribution': 1368,\n",
       " 'give rise': 1288,\n",
       " 'make statement': 1283,\n",
       " 'make progress': 1259,\n",
       " 'bear in mind': 1250,\n",
       " 'relate issue': 1168,\n",
       " 'take this opportunity': 1151,\n",
       " 'protect the right': 1149,\n",
       " 'speak on behalf': 1148,\n",
       " 'provide training': 1102,\n",
       " 'recognize the importance': 1075,\n",
       " 'provide guidance': 1062,\n",
       " 'reduce poverty': 1058,\n",
       " 'protect human right': 1057,\n",
       " 'combat terrorism': 1049,\n",
       " 'make process': 1043,\n",
       " 'give priority': 987,\n",
       " 'develop world': 985,\n",
       " 'improve the quality': 983,\n",
       " 'implement partner': 980,\n",
       " 'increase the number': 977,\n",
       " 'enable environment': 954,\n",
       " 'recognize the need': 945,\n",
       " 'take account': 944,\n",
       " 'strengthen the capacity': 931,\n",
       " 'relate activity': 925,\n",
       " 'provide technical assistance': 924,\n",
       " 'take a decision': 919,\n",
       " 'take advantage': 915,\n",
       " 'follow-up': 914,\n",
       " 'continue effort': 908,\n",
       " 'make use': 901,\n",
       " 'make every effort': 896,\n",
       " 'take the floor': 893,\n",
       " 'play a key role': 886,\n",
       " 'provide advice': 864,\n",
       " 'improve access': 853,\n",
       " 'govern body': 850,\n",
       " 'highlight the importance': 850,\n",
       " 'have an impact': 840,\n",
       " 'disaggregate datum': 830,\n",
       " 'underline the importance': 801,\n",
       " 'include woman': 790,\n",
       " 'highlight the need': 790,\n",
       " 'provide an opportunity': 779,\n",
       " 'include information': 770,\n",
       " 'have the potential': 766,\n",
       " 'support the effort': 750,\n",
       " 'guide principle': 739,\n",
       " 'promote human right': 737,\n",
       " 'address the problem': 731,\n",
       " 'grow number': 719,\n",
       " 'put an end': 699,\n",
       " 'address issue': 692,\n",
       " 'meet the need': 690,\n",
       " 'live in poverty': 686,\n",
       " 'support the development': 684,\n",
       " 'ensure compliance': 672,\n",
       " 'support effort': 671,\n",
       " 'share responsibility': 668,\n",
       " 'enhance cooperation': 665,\n",
       " 'pay tribute': 663,\n",
       " 'share information': 660,\n",
       " 'form part': 657,\n",
       " 'emerge issue': 654,\n",
       " 'make effort': 654,\n",
       " 'promote woman': 631,\n",
       " 'strengthen cooperation': 631,\n",
       " 'increase awareness': 625,\n",
       " 'add value': 622,\n",
       " 'bring to justice': 622,\n",
       " 'receive information': 618,\n",
       " 'force marriage': 609,\n",
       " 'reduce the number': 605,\n",
       " 'improve the situation': 600,\n",
       " 'achieve the goal': 599,\n",
       " 'come year': 598,\n",
       " 'have the opportunity': 592,\n",
       " 'exchange information': 592,\n",
       " 'come into force': 591,\n",
       " 'provide service': 584,\n",
       " 'have an important role': 583,\n",
       " 'form the basis': 583,\n",
       " 'last peace': 575,\n",
       " 'address the need': 572,\n",
       " 'increase access': 570,\n",
       " 'be a number': 566,\n",
       " 'underscore the importance': 565,\n",
       " 'build the capacity': 562,\n",
       " 'reach agreement': 562,\n",
       " 'base organization': 556,\n",
       " 'ensure access': 537,\n",
       " 'lead role': 520,\n",
       " 'base on the principle': 514,\n",
       " 'mobilize resource': 504,\n",
       " 'make significant progress': 502,\n",
       " 'provide access': 497,\n",
       " 'play a role': 497,\n",
       " 'exist resource': 494,\n",
       " 'provide protection': 491,\n",
       " 'continue support': 485,\n",
       " 'industrialize country': 482,\n",
       " 'take the form': 482,\n",
       " 'protect area': 480,\n",
       " 'take the lead': 477,\n",
       " 'have a negative impact': 476,\n",
       " 'address this issue': 472,\n",
       " 'empower woman': 471,\n",
       " 'play an active role': 470,\n",
       " 'be an urgent need': 465,\n",
       " 'promote peace': 465,\n",
       " 'climate change': 464,\n",
       " 'raise concern': 459,\n",
       " 'pave the way': 458,\n",
       " 'note the importance': 453,\n",
       " 'play a crucial role': 450,\n",
       " 'address the challenge': 449,\n",
       " 'gain access': 448,\n",
       " 'collect datum': 444,\n",
       " 'meet the requirement': 435,\n",
       " 'develop economy': 434,\n",
       " 'underscore the need': 433,\n",
       " 'increase demand': 433,\n",
       " 'provide security': 432,\n",
       " 'increase attention': 426,\n",
       " 'build capacity': 423,\n",
       " 'affect country': 421,\n",
       " 'provide opportunity': 417,\n",
       " 'take effect': 414,\n",
       " 'fix-wing': 410,\n",
       " 'have an obligation': 409,\n",
       " 'share the view': 407,\n",
       " 'come month': 398,\n",
       " 'develop region': 398,\n",
       " 'exist law': 397,\n",
       " 'increase use': 393,\n",
       " 'reach consensus': 393,\n",
       " 'meet the challenge': 392,\n",
       " 'increase transparency': 390,\n",
       " 'affect woman': 388,\n",
       " 'combat corruption': 388,\n",
       " 'go hand': 386,\n",
       " 'play a significant role': 385,\n",
       " 'address the root': 382,\n",
       " 'counter terrorism': 381,\n",
       " 'affect area': 378,\n",
       " 'have difficulty': 375,\n",
       " 'provide technical support': 370,\n",
       " 'help country': 368,\n",
       " 'make reference': 368,\n",
       " 'find mission': 367,\n",
       " 'provide datum': 366,\n",
       " 'provide the basis': 366,\n",
       " 'take care': 363,\n",
       " 'promote cooperation': 359,\n",
       " 'be a lack': 359,\n",
       " 'exchange view': 358,\n",
       " 'provide funding': 357,\n",
       " 'protect civilian': 357,\n",
       " 'raise the issue': 357,\n",
       " 'make a number': 356,\n",
       " 'receive support': 356,\n",
       " 'be no doubt': 355,\n",
       " 'reduce the risk': 354,\n",
       " 'implement policy': 354,\n",
       " 'increase efficiency': 353,\n",
       " 'have a right': 353,\n",
       " 'elect member': 352,\n",
       " 'increase cooperation': 352,\n",
       " 'exist mechanism': 351,\n",
       " 'strengthen the rule': 351,\n",
       " 'have the capacity': 349,\n",
       " 'play a central role': 348,\n",
       " 'explore way': 346,\n",
       " 'leave the country': 344,\n",
       " 'take decision': 344,\n",
       " 'contribute to the development': 340,\n",
       " 'work day': 339,\n",
       " 'take stock': 339,\n",
       " 'need in order': 338,\n",
       " 'play a critical role': 336,\n",
       " 'have the power': 336,\n",
       " 'identify area': 336,\n",
       " 'consider the possibility': 335,\n",
       " 'support country': 333,\n",
       " 'share experience': 333,\n",
       " 'respond to question': 332,\n",
       " 'deny access': 328,\n",
       " 'find way': 326,\n",
       " 'address climate': 325,\n",
       " 'provide a framework': 324,\n",
       " 'ensure accountability': 324,\n",
       " 'have jurisdiction': 324,\n",
       " 'have a role': 323,\n",
       " 'give birth': 322}"
      ]
     },
     "execution_count": 100,
     "metadata": {},
     "output_type": "execute_result"
    }
   ],
   "source": [
    "dict(df_02.values.tolist())"
   ]
  },
  {
   "cell_type": "code",
   "execution_count": 101,
   "metadata": {},
   "outputs": [],
   "source": [
    "exp_wordcloud =  [f'''wordcloud_{str(i).zfill(2)} = WordCloud(width=1920, height=1080, background_color=\"{choice(background_color)}\", colormap=my_cmap, font_path='./font/{choice(fonts)}').generate_from_frequencies(dict(df_{str(i).zfill(2)}.values.tolist()))\n",
    "wordcloud_{str(i).zfill(2)}.to_image()\n",
    "wordcloud_{str(i).zfill(2)}.to_file('WORDCLOUD_QUIZZIA_{str(i).zfill(2)}.png')\n",
    "''' for i in range(1,10)]"
   ]
  },
  {
   "cell_type": "code",
   "execution_count": 102,
   "metadata": {},
   "outputs": [
    {
     "name": "stdout",
     "output_type": "stream",
     "text": [
      "wordcloud_01 = WordCloud(width=1920, height=1080, background_color=\"#EBF5FB\", colormap=my_cmap, font_path='./font/FiraSans-BlackItalic.ttf').generate_from_frequencies(dict(df_01.values.tolist()))\n",
      "wordcloud_01.to_image()\n",
      "wordcloud_01.to_file('WORDCLOUD_QUIZZIA_01.png')\n",
      "\n",
      "wordcloud_02 = WordCloud(width=1920, height=1080, background_color=\"#E8F8F5\", colormap=my_cmap, font_path='./font/Fira_Sans.zip').generate_from_frequencies(dict(df_02.values.tolist()))\n",
      "wordcloud_02.to_image()\n",
      "wordcloud_02.to_file('WORDCLOUD_QUIZZIA_02.png')\n",
      "\n",
      "wordcloud_03 = WordCloud(width=1920, height=1080, background_color=\"#F9EBEA\", colormap=my_cmap, font_path='./font/EBGaramond-Italic-VariableFont_wght.ttf').generate_from_frequencies(dict(df_03.values.tolist()))\n",
      "wordcloud_03.to_image()\n",
      "wordcloud_03.to_file('WORDCLOUD_QUIZZIA_03.png')\n",
      "\n",
      "wordcloud_04 = WordCloud(width=1920, height=1080, background_color=\"#F4ECF7\", colormap=my_cmap, font_path='./font/FiraSans-Black.ttf').generate_from_frequencies(dict(df_04.values.tolist()))\n",
      "wordcloud_04.to_image()\n",
      "wordcloud_04.to_file('WORDCLOUD_QUIZZIA_04.png')\n",
      "\n",
      "wordcloud_05 = WordCloud(width=1920, height=1080, background_color=\"#F5EEF8\", colormap=my_cmap, font_path='./font/SourceSerifPro-ExtraLight.ttf').generate_from_frequencies(dict(df_05.values.tolist()))\n",
      "wordcloud_05.to_image()\n",
      "wordcloud_05.to_file('WORDCLOUD_QUIZZIA_05.png')\n",
      "\n",
      "wordcloud_06 = WordCloud(width=1920, height=1080, background_color=\"#F9EBEA\", colormap=my_cmap, font_path='./font/EBGaramond-Medium.ttf').generate_from_frequencies(dict(df_06.values.tolist()))\n",
      "wordcloud_06.to_image()\n",
      "wordcloud_06.to_file('WORDCLOUD_QUIZZIA_06.png')\n",
      "\n",
      "wordcloud_07 = WordCloud(width=1920, height=1080, background_color=\"#F9EBEA\", colormap=my_cmap, font_path='./font/FiraSans-Regular.ttf').generate_from_frequencies(dict(df_07.values.tolist()))\n",
      "wordcloud_07.to_image()\n",
      "wordcloud_07.to_file('WORDCLOUD_QUIZZIA_07.png')\n",
      "\n",
      "wordcloud_08 = WordCloud(width=1920, height=1080, background_color=\"#F5EEF8\", colormap=my_cmap, font_path='./font/WorkSans-ExtraLightItalic.ttf').generate_from_frequencies(dict(df_08.values.tolist()))\n",
      "wordcloud_08.to_image()\n",
      "wordcloud_08.to_file('WORDCLOUD_QUIZZIA_08.png')\n",
      "\n",
      "wordcloud_09 = WordCloud(width=1920, height=1080, background_color=\"#F4ECF7\", colormap=my_cmap, font_path='./font/EBGaramond-Italic.ttf').generate_from_frequencies(dict(df_09.values.tolist()))\n",
      "wordcloud_09.to_image()\n",
      "wordcloud_09.to_file('WORDCLOUD_QUIZZIA_09.png')\n",
      "\n"
     ]
    }
   ],
   "source": [
    "for i in exp_wordcloud:\n",
    "    print(i)"
   ]
  },
  {
   "cell_type": "code",
   "execution_count": null,
   "metadata": {},
   "outputs": [],
   "source": []
  },
  {
   "cell_type": "code",
   "execution_count": 103,
   "metadata": {},
   "outputs": [
    {
     "data": {
      "text/plain": [
       "<wordcloud.wordcloud.WordCloud at 0x284bf42f550>"
      ]
     },
     "execution_count": 103,
     "metadata": {},
     "output_type": "execute_result"
    }
   ],
   "source": [
    "wordcloud_01 = WordCloud(width=1920, height=1080, background_color=\"#E8F8F5\", colormap=my_cmap, font_path='./font/Kanit-Black.ttf').generate_from_frequencies(dict(df_01.values.tolist()))\n",
    "wordcloud_01.to_image()\n",
    "wordcloud_01.to_file('WORDCLOUD_QUIZZIA_01.png')"
   ]
  },
  {
   "cell_type": "code",
   "execution_count": 104,
   "metadata": {},
   "outputs": [
    {
     "data": {
      "text/plain": [
       "<wordcloud.wordcloud.WordCloud at 0x284be8cf220>"
      ]
     },
     "execution_count": 104,
     "metadata": {},
     "output_type": "execute_result"
    }
   ],
   "source": [
    "wordcloud_02 = WordCloud(width=1920, height=1080, background_color=\"#F4ECF7\", colormap=my_cmap, font_path='./font/WorkSans-Regular.ttf').generate_from_frequencies(dict(df_02.values.tolist()))\n",
    "wordcloud_02.to_image()\n",
    "wordcloud_02.to_file('WORDCLOUD_QUIZZIA_02.png')\n"
   ]
  },
  {
   "cell_type": "code",
   "execution_count": 105,
   "metadata": {},
   "outputs": [
    {
     "data": {
      "text/plain": [
       "<wordcloud.wordcloud.WordCloud at 0x284be913e80>"
      ]
     },
     "execution_count": 105,
     "metadata": {},
     "output_type": "execute_result"
    }
   ],
   "source": [
    "wordcloud_03 = WordCloud(width=1920, height=1080, background_color=\"#EBF5FB\", colormap=my_cmap, font_path='./font/SourceSerifPro-Bold.ttf').generate_from_frequencies(dict(df_03.values.tolist()))\n",
    "wordcloud_03.to_image()\n",
    "wordcloud_03.to_file('WORDCLOUD_QUIZZIA_03.png')\n",
    "\n"
   ]
  },
  {
   "cell_type": "code",
   "execution_count": 106,
   "metadata": {},
   "outputs": [
    {
     "data": {
      "text/plain": [
       "<wordcloud.wordcloud.WordCloud at 0x284be8b59a0>"
      ]
     },
     "execution_count": 106,
     "metadata": {},
     "output_type": "execute_result"
    }
   ],
   "source": [
    "wordcloud_04 = WordCloud(width=1920, height=1080, background_color=\"#F4ECF7\", colormap=my_cmap, font_path='./font/EBGaramond-ExtraBold.ttf').generate_from_frequencies(dict(df_04.values.tolist()))\n",
    "wordcloud_04.to_image()\n",
    "wordcloud_04.to_file('WORDCLOUD_QUIZZIA_04.png')\n"
   ]
  },
  {
   "cell_type": "code",
   "execution_count": 107,
   "metadata": {},
   "outputs": [
    {
     "data": {
      "text/plain": [
       "<wordcloud.wordcloud.WordCloud at 0x284c9440fa0>"
      ]
     },
     "execution_count": 107,
     "metadata": {},
     "output_type": "execute_result"
    }
   ],
   "source": [
    "wordcloud_05 = WordCloud(width=1920, height=1080, background_color=\"#EBF5FB\", colormap=my_cmap, font_path='./font/Kanit-Light.ttf').generate_from_frequencies(dict(df_05.values.tolist()))\n",
    "wordcloud_05.to_image()\n",
    "wordcloud_05.to_file('WORDCLOUD_QUIZZIA_05.png')\n"
   ]
  },
  {
   "cell_type": "code",
   "execution_count": 108,
   "metadata": {},
   "outputs": [
    {
     "data": {
      "text/plain": [
       "<wordcloud.wordcloud.WordCloud at 0x284be8b52b0>"
      ]
     },
     "execution_count": 108,
     "metadata": {},
     "output_type": "execute_result"
    }
   ],
   "source": [
    "wordcloud_06 = WordCloud(width=1920, height=1080, background_color=\"#F9EBEA\", colormap=my_cmap, font_path='./font/FiraSans-BoldItalic.ttf').generate_from_frequencies(dict(df_06.values.tolist()))\n",
    "wordcloud_06.to_image()\n",
    "wordcloud_06.to_file('WORDCLOUD_QUIZZIA_06.png')\n"
   ]
  },
  {
   "cell_type": "code",
   "execution_count": 109,
   "metadata": {},
   "outputs": [
    {
     "data": {
      "text/plain": [
       "<wordcloud.wordcloud.WordCloud at 0x284be8cf910>"
      ]
     },
     "execution_count": 109,
     "metadata": {},
     "output_type": "execute_result"
    }
   ],
   "source": [
    "wordcloud_07 = WordCloud(width=1920, height=1080, background_color=\"#F4ECF7\", colormap=my_cmap, font_path='./font/JosefinSans-Thin.ttf').generate_from_frequencies(dict(df_07.values.tolist()))\n",
    "wordcloud_07.to_image()\n",
    "wordcloud_07.to_file('WORDCLOUD_QUIZZIA_07.png')\n"
   ]
  },
  {
   "cell_type": "code",
   "execution_count": 110,
   "metadata": {},
   "outputs": [
    {
     "data": {
      "text/plain": [
       "<wordcloud.wordcloud.WordCloud at 0x284be8b5e20>"
      ]
     },
     "execution_count": 110,
     "metadata": {},
     "output_type": "execute_result"
    }
   ],
   "source": [
    "wordcloud_08 = WordCloud(width=1920, height=1080, background_color=\"#F9EBEA\", colormap=my_cmap, font_path='./font/JosefinSans-MediumItalic.ttf').generate_from_frequencies(dict(df_08.values.tolist()))\n",
    "wordcloud_08.to_image()\n",
    "wordcloud_08.to_file('WORDCLOUD_QUIZZIA_08.png')\n"
   ]
  },
  {
   "cell_type": "code",
   "execution_count": 111,
   "metadata": {},
   "outputs": [
    {
     "data": {
      "text/plain": [
       "<wordcloud.wordcloud.WordCloud at 0x284c9440940>"
      ]
     },
     "execution_count": 111,
     "metadata": {},
     "output_type": "execute_result"
    }
   ],
   "source": [
    "wordcloud_09 = WordCloud(width=1920, height=1080, background_color=\"#F4ECF7\", colormap=my_cmap, font_path='./font/WorkSans-ThinItalic.ttf').generate_from_frequencies(dict(df_09.values.tolist()))\n",
    "wordcloud_09.to_image()\n",
    "wordcloud_09.to_file('WORDCLOUD_QUIZZIA_09.png')\n"
   ]
  },
  {
   "cell_type": "code",
   "execution_count": null,
   "metadata": {},
   "outputs": [],
   "source": []
  },
  {
   "cell_type": "code",
   "execution_count": null,
   "metadata": {},
   "outputs": [],
   "source": []
  },
  {
   "cell_type": "code",
   "execution_count": null,
   "metadata": {},
   "outputs": [],
   "source": []
  },
  {
   "cell_type": "code",
   "execution_count": null,
   "metadata": {},
   "outputs": [],
   "source": []
  },
  {
   "cell_type": "code",
   "execution_count": 112,
   "metadata": {},
   "outputs": [],
   "source": [
    "cho = pd.read_pickle('VERB_CHOICES.pkl')"
   ]
  },
  {
   "cell_type": "code",
   "execution_count": 118,
   "metadata": {},
   "outputs": [],
   "source": [
    "cho['CHARS'] = cho['CHOICES'].apply(lambda x: ''.join(x))"
   ]
  },
  {
   "cell_type": "code",
   "execution_count": 122,
   "metadata": {},
   "outputs": [],
   "source": [
    "char_choice = (set(chain(*cho['CHARS'])))"
   ]
  },
  {
   "cell_type": "code",
   "execution_count": 124,
   "metadata": {},
   "outputs": [
    {
     "data": {
      "text/plain": [
       "[',', '-']"
      ]
     },
     "execution_count": 124,
     "metadata": {},
     "output_type": "execute_result"
    }
   ],
   "source": [
    "[i for i in char_choice if i.isalpha() == False]"
   ]
  },
  {
   "cell_type": "code",
   "execution_count": 125,
   "metadata": {},
   "outputs": [],
   "source": [
    "char_choice = (set(chain(*cho['VERB'])))"
   ]
  },
  {
   "cell_type": "code",
   "execution_count": 126,
   "metadata": {},
   "outputs": [
    {
     "data": {
      "text/plain": [
       "{',',\n",
       " '-',\n",
       " 'A',\n",
       " 'B',\n",
       " 'C',\n",
       " 'D',\n",
       " 'E',\n",
       " 'F',\n",
       " 'G',\n",
       " 'H',\n",
       " 'I',\n",
       " 'K',\n",
       " 'L',\n",
       " 'M',\n",
       " 'N',\n",
       " 'O',\n",
       " 'P',\n",
       " 'R',\n",
       " 'S',\n",
       " 'T',\n",
       " 'U',\n",
       " 'V',\n",
       " 'W',\n",
       " 'a',\n",
       " 'b',\n",
       " 'c',\n",
       " 'd',\n",
       " 'e',\n",
       " 'f',\n",
       " 'g',\n",
       " 'h',\n",
       " 'i',\n",
       " 'j',\n",
       " 'k',\n",
       " 'l',\n",
       " 'm',\n",
       " 'n',\n",
       " 'o',\n",
       " 'p',\n",
       " 'q',\n",
       " 'r',\n",
       " 's',\n",
       " 't',\n",
       " 'u',\n",
       " 'v',\n",
       " 'w',\n",
       " 'x',\n",
       " 'y',\n",
       " 'z'}"
      ]
     },
     "execution_count": 126,
     "metadata": {},
     "output_type": "execute_result"
    }
   ],
   "source": [
    "char_choice"
   ]
  },
  {
   "cell_type": "code",
   "execution_count": null,
   "metadata": {},
   "outputs": [],
   "source": []
  }
 ],
 "metadata": {
  "kernelspec": {
   "display_name": "Python 3",
   "language": "python",
   "name": "python3"
  },
  "language_info": {
   "codemirror_mode": {
    "name": "ipython",
    "version": 3
   },
   "file_extension": ".py",
   "mimetype": "text/x-python",
   "name": "python",
   "nbconvert_exporter": "python",
   "pygments_lexer": "ipython3",
   "version": "3.8.7"
  }
 },
 "nbformat": 4,
 "nbformat_minor": 4
}
